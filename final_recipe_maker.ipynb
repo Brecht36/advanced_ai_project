{
 "cells": [
  {
   "cell_type": "code",
   "execution_count": 15,
   "id": "e80c5f2a",
   "metadata": {},
   "outputs": [
    {
     "name": "stdout",
     "output_type": "stream",
     "text": [
      "Requirement already satisfied: ipywidgets in c:\\users\\brech\\desktop\\fase2_sem2\\ai_project\\.venv\\lib\\site-packages (8.1.7)\n",
      "Requirement already satisfied: comm>=0.1.3 in c:\\users\\brech\\desktop\\fase2_sem2\\ai_project\\.venv\\lib\\site-packages (from ipywidgets) (0.2.2)\n",
      "Requirement already satisfied: ipython>=6.1.0 in c:\\users\\brech\\desktop\\fase2_sem2\\ai_project\\.venv\\lib\\site-packages (from ipywidgets) (9.1.0)\n",
      "Requirement already satisfied: traitlets>=4.3.1 in c:\\users\\brech\\desktop\\fase2_sem2\\ai_project\\.venv\\lib\\site-packages (from ipywidgets) (5.14.3)\n",
      "Requirement already satisfied: widgetsnbextension~=4.0.14 in c:\\users\\brech\\desktop\\fase2_sem2\\ai_project\\.venv\\lib\\site-packages (from ipywidgets) (4.0.14)\n",
      "Requirement already satisfied: jupyterlab_widgets~=3.0.15 in c:\\users\\brech\\desktop\\fase2_sem2\\ai_project\\.venv\\lib\\site-packages (from ipywidgets) (3.0.15)\n",
      "Requirement already satisfied: colorama in c:\\users\\brech\\desktop\\fase2_sem2\\ai_project\\.venv\\lib\\site-packages (from ipython>=6.1.0->ipywidgets) (0.4.6)\n",
      "Requirement already satisfied: decorator in c:\\users\\brech\\desktop\\fase2_sem2\\ai_project\\.venv\\lib\\site-packages (from ipython>=6.1.0->ipywidgets) (5.2.1)\n",
      "Requirement already satisfied: ipython-pygments-lexers in c:\\users\\brech\\desktop\\fase2_sem2\\ai_project\\.venv\\lib\\site-packages (from ipython>=6.1.0->ipywidgets) (1.1.1)\n",
      "Requirement already satisfied: jedi>=0.16 in c:\\users\\brech\\desktop\\fase2_sem2\\ai_project\\.venv\\lib\\site-packages (from ipython>=6.1.0->ipywidgets) (0.19.2)\n",
      "Requirement already satisfied: matplotlib-inline in c:\\users\\brech\\desktop\\fase2_sem2\\ai_project\\.venv\\lib\\site-packages (from ipython>=6.1.0->ipywidgets) (0.1.7)\n",
      "Requirement already satisfied: prompt_toolkit<3.1.0,>=3.0.41 in c:\\users\\brech\\desktop\\fase2_sem2\\ai_project\\.venv\\lib\\site-packages (from ipython>=6.1.0->ipywidgets) (3.0.51)\n",
      "Requirement already satisfied: pygments>=2.4.0 in c:\\users\\brech\\desktop\\fase2_sem2\\ai_project\\.venv\\lib\\site-packages (from ipython>=6.1.0->ipywidgets) (2.19.1)\n",
      "Requirement already satisfied: stack_data in c:\\users\\brech\\desktop\\fase2_sem2\\ai_project\\.venv\\lib\\site-packages (from ipython>=6.1.0->ipywidgets) (0.6.3)\n",
      "Requirement already satisfied: parso<0.9.0,>=0.8.4 in c:\\users\\brech\\desktop\\fase2_sem2\\ai_project\\.venv\\lib\\site-packages (from jedi>=0.16->ipython>=6.1.0->ipywidgets) (0.8.4)\n",
      "Requirement already satisfied: wcwidth in c:\\users\\brech\\desktop\\fase2_sem2\\ai_project\\.venv\\lib\\site-packages (from prompt_toolkit<3.1.0,>=3.0.41->ipython>=6.1.0->ipywidgets) (0.2.13)\n",
      "Requirement already satisfied: executing>=1.2.0 in c:\\users\\brech\\desktop\\fase2_sem2\\ai_project\\.venv\\lib\\site-packages (from stack_data->ipython>=6.1.0->ipywidgets) (2.2.0)\n",
      "Requirement already satisfied: asttokens>=2.1.0 in c:\\users\\brech\\desktop\\fase2_sem2\\ai_project\\.venv\\lib\\site-packages (from stack_data->ipython>=6.1.0->ipywidgets) (3.0.0)\n",
      "Requirement already satisfied: pure-eval in c:\\users\\brech\\desktop\\fase2_sem2\\ai_project\\.venv\\lib\\site-packages (from stack_data->ipython>=6.1.0->ipywidgets) (0.2.3)\n",
      "Note: you may need to restart the kernel to use updated packages.\n"
     ]
    },
    {
     "name": "stderr",
     "output_type": "stream",
     "text": [
      "\n",
      "[notice] A new release of pip is available: 24.2 -> 25.1.1\n",
      "[notice] To update, run: python.exe -m pip install --upgrade pip\n"
     ]
    }
   ],
   "source": [
    "%pip install ipywidgets"
   ]
  },
  {
   "cell_type": "code",
   "execution_count": 16,
   "id": "47593051",
   "metadata": {},
   "outputs": [],
   "source": [
    "import urllib.request\n",
    "import os\n",
    "from tensorflow.keras.models import load_model\n",
    "from pathlib import Path\n",
    "import numpy as np\n",
    "import tensorflow as tf\n",
    "from tensorflow.keras.preprocessing import image\n",
    "from langchain_ollama import OllamaLLM\n",
    "import ipywidgets as widgets\n",
    "from IPython.display import display, clear_output\n",
    "import pickle"
   ]
  },
  {
   "cell_type": "code",
   "execution_count": 17,
   "id": "ab4a189f",
   "metadata": {},
   "outputs": [
    {
     "name": "stderr",
     "output_type": "stream",
     "text": [
      "WARNING:absl:Compiled the loaded model, but the compiled metrics have yet to be built. `model.compile_metrics` will be empty until you train or evaluate the model.\n"
     ]
    }
   ],
   "source": [
    "food_model = load_model('food_classification_model.h5')"
   ]
  },
  {
   "cell_type": "code",
   "execution_count": 18,
   "id": "d2049b8d",
   "metadata": {},
   "outputs": [],
   "source": [
    "classes = ['paella', 'steak', 'bread_pudding', 'waffles', 'french_toast',\n",
    "       'peking_duck', 'ice_cream', 'hot_dog', 'eggs_benedict', 'lasagna',\n",
    "       'beef_carpaccio', 'chicken_wings', 'ramen', 'hummus', 'crab_cakes',\n",
    "       'gnocchi', 'dumplings', 'gyoza', 'clam_chowder', 'beef_tartare',\n",
    "       'oysters', 'pancakes', 'tiramisu', 'beignets', 'foie_gras',\n",
    "       'sushi', 'hot_and_sour_soup', 'cannoli', 'strawberry_shortcake',\n",
    "       'fried_rice', 'pad_thai', 'takoyaki', 'greek_salad',\n",
    "       'creme_brulee', 'lobster_bisque', 'poutine', 'spaghetti_carbonara',\n",
    "       'beet_salad', 'baklava', 'sashimi', 'falafel', 'mussels',\n",
    "       'cheese_plate', 'tacos', 'frozen_yogurt', 'pulled_pork_sandwich',\n",
    "       'fish_and_chips', 'pho', 'bruschetta', 'onion_rings',\n",
    "       'chicken_quesadilla', 'deviled_eggs', 'seaweed_salad', 'hamburger',\n",
    "       'fried_calamari', 'grilled_cheese_sandwich', 'spring_rolls',\n",
    "       'chocolate_mousse', 'miso_soup', 'nachos', 'grilled_salmon',\n",
    "       'pork_chop', 'bibimbap', 'escargots', 'red_velvet_cake',\n",
    "       'cheesecake', 'omelette', 'breakfast_burrito', 'french_fries',\n",
    "       'macarons', 'ravioli', 'macaroni_and_cheese', 'cup_cakes',\n",
    "       'shrimp_and_grits', 'baby_back_ribs', 'club_sandwich',\n",
    "       'filet_mignon', 'samosa', 'tuna_tartare', 'risotto',\n",
    "       'lobster_roll_sandwich', 'caprese_salad', 'carrot_cake',\n",
    "       'huevos_rancheros', 'pizza', 'guacamole', 'french_onion_soup',\n",
    "       'scallops', 'edamame', 'spaghetti_bolognese', 'churros',\n",
    "       'croque_madame', 'ceviche', 'garlic_bread', 'prime_rib', 'donuts',\n",
    "       'caesar_salad', 'chicken_curry', 'chocolate_cake', 'panna_cotta',\n",
    "       'apple_pie']"
   ]
  },
  {
   "cell_type": "code",
   "execution_count": 19,
   "id": "90abd256",
   "metadata": {},
   "outputs": [
    {
     "name": "stderr",
     "output_type": "stream",
     "text": [
      "WARNING:absl:Compiled the loaded model, but the compiled metrics have yet to be built. `model.compile_metrics` will be empty until you train or evaluate the model.\n"
     ]
    },
    {
     "name": "stdout",
     "output_type": "stream",
     "text": [
      "\u001b[1m1/1\u001b[0m \u001b[32m━━━━━━━━━━━━━━━━━━━━\u001b[0m\u001b[37m\u001b[0m \u001b[1m0s\u001b[0m 453ms/step\n",
      "\n",
      "Predicted: edamame\n",
      "Confidence: 30.97%\n",
      "input_image\\image.png\n"
     ]
    }
   ],
   "source": [
    "\n",
    "# Load the saved model\n",
    "model = load_model('food_classification_model.h5')\n",
    "\n",
    "# 2. Load class labels\n",
    "with open('class_labels.pkl', 'rb') as f:\n",
    "    class_labels = pickle.load(f)\n",
    "# class_labels = classes\n",
    "\n",
    "def predict_food(image_path, show_image=True):\n",
    "    \"\"\"\n",
    "    Predict the food type from an image file\n",
    "    \n",
    "    Args:\n",
    "        image_path: path to the image file\n",
    "        show_image: whether to display the image (default True)\n",
    "    \n",
    "    Returns:\n",
    "        tuple: (predicted_label, confidence_percentage)\n",
    "    \"\"\"\n",
    "    \n",
    "    # Preprocess the image for the model\n",
    "    img = image.load_img(image_path, target_size=(224, 224))\n",
    "    img_array = image.img_to_array(img)\n",
    "    img_array = tf.keras.applications.mobilenet_v2.preprocess_input(img_array)\n",
    "    img_array = np.expand_dims(img_array, axis=0)  # Add batch dimension\n",
    "    \n",
    "    # Make prediction\n",
    "    predictions = model.predict(img_array)\n",
    "    predicted_class = np.argmax(predictions, axis=1)[0]\n",
    "    predicted_label = class_labels[predicted_class]\n",
    "    confidence = np.max(predictions) * 100\n",
    "    \n",
    "    return predicted_label, confidence\n",
    "\n",
    "# Example usage\n",
    "if __name__ == \"__main__\":\n",
    "    input_image = str(sorted(Path(\"input_image\").glob(\"*\"))[0])\n",
    "    label, confidence = predict_food(input_image)\n",
    "    print(f\"\\nPredicted: {label}\")\n",
    "    print(f\"Confidence: {confidence:.2f}%\")\n",
    "    print(input_image)"
   ]
  },
  {
   "cell_type": "code",
   "execution_count": 20,
   "id": "a20fbf5a",
   "metadata": {},
   "outputs": [],
   "source": [
    "servings = str(input(\"\\nFor how many people will this be? (1-10): \"))\n",
    "important = str(input(\"\\nIs there anything important that you want to add before the recipe gets generated?\\n\\n(e.g. Allergies, Prefered ways, difficulty level, duration...)\\nIf you don't have anything just press \\\"Enter\\\"\"))"
   ]
  },
  {
   "cell_type": "code",
   "execution_count": 21,
   "id": "c4ebd02b",
   "metadata": {},
   "outputs": [
    {
     "name": "stdout",
     "output_type": "stream",
     "text": [
      "\n",
      " is for 2 people\n",
      "Make a recipe, only including the title, servings is for 2 people, ingredients and instructions for edamame. \n",
      "**Sesame Edamame Delight**\n",
      "\n",
      "Servings: 2\n",
      "\n",
      "Ingredients:\n",
      "\n",
      "* 1 cup fresh or frozen edamame\n",
      "* 2 tablespoons sesame oil\n",
      "* 1 tablespoon soy sauce\n",
      "* 1 tablespoon honey\n",
      "* 1/4 teaspoon red pepper flakes (optional, for some heat)\n",
      "* Salt and pepper to taste\n",
      "* Sesame seeds and chopped scallions for garnish (optional)\n",
      "\n",
      "Instructions:\n",
      "\n",
      "1. Rinse the edamame under cold water, then pat them dry with a paper towel.\n",
      "2. In a small bowl, whisk together the sesame oil, soy sauce, honey, and red pepper flakes (if using).\n",
      "3. Add the edamame to the bowl and toss them to coat evenly with the marinade.\n",
      "4. Cover the bowl with plastic wrap and refrigerate for at least 30 minutes or up to 2 hours to allow the flavors to meld.\n",
      "5. Preheat a grill or grill pan over medium-high heat. Remove the edamame from the refrigerator and thread them onto skewers or place them in a single layer on a baking sheet.\n",
      "6. Grill the edamame for 3-4 minutes per side, or until they are tender and slightly charred.\n",
      "7. Season with salt and pepper to taste.\n",
      "8. Garnish with sesame seeds and chopped scallions (if using).\n",
      "9. Serve warm and enjoy!\n"
     ]
    }
   ],
   "source": [
    "model = OllamaLLM(model=\"llama3\")\n",
    "\n",
    "if important.strip():\n",
    "    important = 'Important feature: ' + important\n",
    "else:\n",
    "    important = ''\n",
    "print(important)\n",
    "if servings.strip() == '' or servings:\n",
    "    servings = ' is for 2 people'\n",
    "else:\n",
    "    try:\n",
    "        servings_int = int(servings)\n",
    "        servings_str = f' is for {servings_int} people'\n",
    "    except ValueError:\n",
    "        servings_str = ' is for 2 people'\n",
    "print(servings)\n",
    "\n",
    "prompt=f\"Make a recipe, only including the title, servings{servings}, ingredients and instructions for {label}. {important}\"\n",
    "print(prompt)\n",
    "result = model.invoke(input=prompt)\n",
    "print(result)"
   ]
  },
  {
   "cell_type": "code",
   "execution_count": null,
   "id": "a68b82aa",
   "metadata": {},
   "outputs": [],
   "source": [
    "\n"
   ]
  }
 ],
 "metadata": {
  "kernelspec": {
   "display_name": ".venv",
   "language": "python",
   "name": "python3"
  },
  "language_info": {
   "codemirror_mode": {
    "name": "ipython",
    "version": 3
   },
   "file_extension": ".py",
   "mimetype": "text/x-python",
   "name": "python",
   "nbconvert_exporter": "python",
   "pygments_lexer": "ipython3",
   "version": "3.12.6"
  }
 },
 "nbformat": 4,
 "nbformat_minor": 5
}
